{
 "cells": [
  {
   "cell_type": "code",
   "execution_count": 1,
   "metadata": {},
   "outputs": [],
   "source": [
    "import pandas as pd"
   ]
  },
  {
   "cell_type": "code",
   "execution_count": 2,
   "metadata": {},
   "outputs": [],
   "source": [
    "score = pd.read_csv(\"score.tsv\", delimiter=\"\\t\")"
   ]
  },
  {
   "cell_type": "code",
   "execution_count": 10,
   "metadata": {},
   "outputs": [],
   "source": [
    "import subprocess\n",
    "from subprocess import Popen, PIPE, STDOUT\n",
    "from pathlib import Path\n",
    "\n",
    "def make_script(video_path, force=False):\n",
    "    \n",
    "    keypoint_path = Path(video_path).with_suffix(\".json\")\n",
    "    if not force and keypoint_path.is_file():\n",
    "        print(\"Keypoint Exist - \", keypoint_path)\n",
    "        return\n",
    "\n",
    "    cmd = [\n",
    "        \"python\",\n",
    "        \"demo/body3d_two_stage_video_demo.py\",\n",
    "        \"demo/mmdetection_cfg/faster_rcnn_r50_fpn_coco.py\",\n",
    "        \"https://download.openmmlab.com/mmdetection/v2.0/faster_rcnn/faster_rcnn_r50_fpn_1x_coco/faster_rcnn_r50_fpn_1x_coco_20200130-047c8118.pth\",\n",
    "\n",
    "        \"configs/body/2d_kpt_sview_rgb_img/topdown_heatmap/coco/hrnet_w48_coco_256x192.py\",\n",
    "        \"https://download.openmmlab.com/mmpose/top_down/hrnet/hrnet_w48_coco_256x192-b9e0b3ab_20200708.pth\",\n",
    "        \"configs/body/3d_kpt_sview_rgb_vid/video_pose_lift/h36m/videopose3d_h36m_243frames_fullconv_supervised_cpn_ft.py\",\n",
    "        \"https://download.openmmlab.com/mmpose/body3d/videopose/videopose_h36m_243frames_fullconv_supervised_cpn_ft-88f5abbb_20210527.pth\",\n",
    "         \n",
    "        \"--video-path\", video_path,\n",
    "        \"--keypoint-path\", keypoint_path,\n",
    "        \"--out-video-root\", \"vis_results\",\n",
    "        \"--num-instances\", \"1\",\n",
    "        \"--rebase-keypoint-height\",\n",
    "    ]\n",
    "    \n",
    "    return cmd"
   ]
  },
  {
   "cell_type": "code",
   "execution_count": 11,
   "metadata": {},
   "outputs": [],
   "source": [
    "processes = []"
   ]
  },
  {
   "cell_type": "code",
   "execution_count": 13,
   "metadata": {},
   "outputs": [],
   "source": [
    "\n",
    "import os, re, mmcv\n",
    "\n",
    "test_cnt = 10000\n",
    "cmd_d = {}\n",
    "basedir = '/mnt/c/Users/USER/Dropbox/머신러닝_수강생영상 (2)/'\n",
    "fps_error = []\n",
    "for i, r in score.iterrows():\n",
    "    title = r['title'].strip()\n",
    "    filename = r['file name']\n",
    "    score1 = r['Skill']\n",
    "    score2 = r['Expression']\n",
    "\n",
    "    title = re.sub(r\"[\\*\\?]\", \"\", title)\n",
    "    filename = re.sub(r\"[\\*\\?]\", \"\", filename)\n",
    "\n",
    "    if filename != \"1986_STATION X 0_Wow Thing\":\n",
    "        continue\n",
    "\n",
    "    found = False\n",
    "    dir1 = Path(basedir) / title\n",
    "    for file in os.listdir(dir1):\n",
    "        if file.startswith(filename) and not file.endswith(\"json\"):\n",
    "            filename = file\n",
    "            found = True\n",
    "\n",
    "    if not found:\n",
    "        print(i, \"Video Not Found\", dir1 / filename)\n",
    "        continue\n",
    "\n",
    "    x_path = dir1 / filename\n",
    "    \n",
    "    found = False\n",
    "    dir2 = dir1 / \"강사님 영상\"\n",
    "    for file in os.listdir(dir2):\n",
    "        if not file.startswith(\".\") and not file.endswith(\"json\"):\n",
    "            y_path = dir2 / file\n",
    "            found = True\n",
    "    \n",
    "    if not found:\n",
    "        print(i, \"Teacher Video Not Found\", dir2)\n",
    "        continue\n",
    "    vid_x = mmcv.VideoReader(str(x_path))\n",
    "    vid_y = mmcv.VideoReader(str(y_path))\n",
    "    if abs(vid_x.fps - vid_y.fps) > 1:\n",
    "        print(i, \"FPS Problem \", vid_x.fps, vid_y.fps, \"|\", filename)\n",
    "        fps_error.append(filename)\n",
    "        continue\n",
    "\n",
    "    cmd = make_script(x_path, force=True)\n",
    "    if cmd is not None:\n",
    "        cmd_d[x_path] = cmd\n",
    "        \n",
    "        \n",
    "    cmd = make_script(y_path, force=True)\n",
    "    if cmd is not None:\n",
    "        cmd_d[y_path] = cmd\n",
    "    test_cnt -= 1\n",
    "    if test_cnt == 0:\n",
    "        break"
   ]
  },
  {
   "cell_type": "code",
   "execution_count": 14,
   "metadata": {},
   "outputs": [
    {
     "data": {
      "text/plain": [
       "2"
      ]
     },
     "execution_count": 14,
     "metadata": {},
     "output_type": "execute_result"
    }
   ],
   "source": [
    "keys = list(cmd_d.keys())\n",
    "len(keys)"
   ]
  },
  {
   "cell_type": "code",
   "execution_count": 15,
   "metadata": {},
   "outputs": [
    {
     "name": "stdout",
     "output_type": "stream",
     "text": [
      "0\n",
      "Keypoint Exist\n",
      "Stage 1: 2D pose detection.\n",
      "Initializing model...\n",
      "Keypoint Exist\n",
      "Stage 1: 2D pose detection.\n",
      "Initializing model...\n",
      "load checkpoint from http path: https://download.openmmlab.com/mmdetection/v2.0/faster_rcnn/faster_rcnn_r50_fpn_1x_coco/faster_rcnn_r50_fpn_1x_coco_20200130-047c8118.pth\n",
      "load checkpoint from http path: https://download.openmmlab.com/mmdetection/v2.0/faster_rcnn/faster_rcnn_r50_fpn_1x_coco/faster_rcnn_r50_fpn_1x_coco_20200130-047c8118.pth\n",
      "load checkpoint from http path: https://download.openmmlab.com/mmpose/top_down/hrnet/hrnet_w48_coco_256x192-b9e0b3ab_20200708.pth\n",
      "load checkpoint from http path: https://download.openmmlab.com/mmpose/top_down/hrnet/hrnet_w48_coco_256x192-b9e0b3ab_20200708.pth\n",
      "Running 2D pose detection inference...\n",
      "[                                                  ] 0/1514, elapsed: 0s, ETA:Running 2D pose detection inference...\n",
      "[                                                  ] 0/1560, elapsed: 0s, ETA:"
     ]
    },
    {
     "ename": "KeyboardInterrupt",
     "evalue": "",
     "output_type": "error",
     "traceback": [
      "\u001b[0;31m---------------------------------------------------------------------------\u001b[0m",
      "\u001b[0;31mKeyboardInterrupt\u001b[0m                         Traceback (most recent call last)",
      "\u001b[0;32m/tmp/ipykernel_19550/4096495506.py\u001b[0m in \u001b[0;36m<module>\u001b[0;34m\u001b[0m\n\u001b[1;32m     19\u001b[0m         \u001b[0mcurrent_running\u001b[0m\u001b[0;34m.\u001b[0m\u001b[0mappend\u001b[0m\u001b[0;34m(\u001b[0m\u001b[0mp\u001b[0m\u001b[0;34m)\u001b[0m\u001b[0;34m\u001b[0m\u001b[0;34m\u001b[0m\u001b[0m\n\u001b[1;32m     20\u001b[0m \u001b[0;32mfor\u001b[0m \u001b[0mp\u001b[0m \u001b[0;32min\u001b[0m \u001b[0mcurrent_running\u001b[0m\u001b[0;34m:\u001b[0m\u001b[0;34m\u001b[0m\u001b[0;34m\u001b[0m\u001b[0m\n\u001b[0;32m---> 21\u001b[0;31m     \u001b[0mp\u001b[0m\u001b[0;34m.\u001b[0m\u001b[0mwait\u001b[0m\u001b[0;34m(\u001b[0m\u001b[0;34m)\u001b[0m\u001b[0;34m\u001b[0m\u001b[0;34m\u001b[0m\u001b[0m\n\u001b[0m",
      "\u001b[0;32m~/anaconda3/lib/python3.9/subprocess.py\u001b[0m in \u001b[0;36mwait\u001b[0;34m(self, timeout)\u001b[0m\n\u001b[1;32m   1187\u001b[0m             \u001b[0mendtime\u001b[0m \u001b[0;34m=\u001b[0m \u001b[0m_time\u001b[0m\u001b[0;34m(\u001b[0m\u001b[0;34m)\u001b[0m \u001b[0;34m+\u001b[0m \u001b[0mtimeout\u001b[0m\u001b[0;34m\u001b[0m\u001b[0;34m\u001b[0m\u001b[0m\n\u001b[1;32m   1188\u001b[0m         \u001b[0;32mtry\u001b[0m\u001b[0;34m:\u001b[0m\u001b[0;34m\u001b[0m\u001b[0;34m\u001b[0m\u001b[0m\n\u001b[0;32m-> 1189\u001b[0;31m             \u001b[0;32mreturn\u001b[0m \u001b[0mself\u001b[0m\u001b[0;34m.\u001b[0m\u001b[0m_wait\u001b[0m\u001b[0;34m(\u001b[0m\u001b[0mtimeout\u001b[0m\u001b[0;34m=\u001b[0m\u001b[0mtimeout\u001b[0m\u001b[0;34m)\u001b[0m\u001b[0;34m\u001b[0m\u001b[0;34m\u001b[0m\u001b[0m\n\u001b[0m\u001b[1;32m   1190\u001b[0m         \u001b[0;32mexcept\u001b[0m \u001b[0mKeyboardInterrupt\u001b[0m\u001b[0;34m:\u001b[0m\u001b[0;34m\u001b[0m\u001b[0;34m\u001b[0m\u001b[0m\n\u001b[1;32m   1191\u001b[0m             \u001b[0;31m# https://bugs.python.org/issue25942\u001b[0m\u001b[0;34m\u001b[0m\u001b[0;34m\u001b[0m\u001b[0m\n",
      "\u001b[0;32m~/anaconda3/lib/python3.9/subprocess.py\u001b[0m in \u001b[0;36m_wait\u001b[0;34m(self, timeout)\u001b[0m\n\u001b[1;32m   1915\u001b[0m                         \u001b[0;32mif\u001b[0m \u001b[0mself\u001b[0m\u001b[0;34m.\u001b[0m\u001b[0mreturncode\u001b[0m \u001b[0;32mis\u001b[0m \u001b[0;32mnot\u001b[0m \u001b[0;32mNone\u001b[0m\u001b[0;34m:\u001b[0m\u001b[0;34m\u001b[0m\u001b[0;34m\u001b[0m\u001b[0m\n\u001b[1;32m   1916\u001b[0m                             \u001b[0;32mbreak\u001b[0m  \u001b[0;31m# Another thread waited.\u001b[0m\u001b[0;34m\u001b[0m\u001b[0;34m\u001b[0m\u001b[0m\n\u001b[0;32m-> 1917\u001b[0;31m                         \u001b[0;34m(\u001b[0m\u001b[0mpid\u001b[0m\u001b[0;34m,\u001b[0m \u001b[0msts\u001b[0m\u001b[0;34m)\u001b[0m \u001b[0;34m=\u001b[0m \u001b[0mself\u001b[0m\u001b[0;34m.\u001b[0m\u001b[0m_try_wait\u001b[0m\u001b[0;34m(\u001b[0m\u001b[0;36m0\u001b[0m\u001b[0;34m)\u001b[0m\u001b[0;34m\u001b[0m\u001b[0;34m\u001b[0m\u001b[0m\n\u001b[0m\u001b[1;32m   1918\u001b[0m                         \u001b[0;31m# Check the pid and loop as waitpid has been known to\u001b[0m\u001b[0;34m\u001b[0m\u001b[0;34m\u001b[0m\u001b[0m\n\u001b[1;32m   1919\u001b[0m                         \u001b[0;31m# return 0 even without WNOHANG in odd situations.\u001b[0m\u001b[0;34m\u001b[0m\u001b[0;34m\u001b[0m\u001b[0m\n",
      "\u001b[0;32m~/anaconda3/lib/python3.9/subprocess.py\u001b[0m in \u001b[0;36m_try_wait\u001b[0;34m(self, wait_flags)\u001b[0m\n\u001b[1;32m   1873\u001b[0m             \u001b[0;34m\"\"\"All callers to this function MUST hold self._waitpid_lock.\"\"\"\u001b[0m\u001b[0;34m\u001b[0m\u001b[0;34m\u001b[0m\u001b[0m\n\u001b[1;32m   1874\u001b[0m             \u001b[0;32mtry\u001b[0m\u001b[0;34m:\u001b[0m\u001b[0;34m\u001b[0m\u001b[0;34m\u001b[0m\u001b[0m\n\u001b[0;32m-> 1875\u001b[0;31m                 \u001b[0;34m(\u001b[0m\u001b[0mpid\u001b[0m\u001b[0;34m,\u001b[0m \u001b[0msts\u001b[0m\u001b[0;34m)\u001b[0m \u001b[0;34m=\u001b[0m \u001b[0mos\u001b[0m\u001b[0;34m.\u001b[0m\u001b[0mwaitpid\u001b[0m\u001b[0;34m(\u001b[0m\u001b[0mself\u001b[0m\u001b[0;34m.\u001b[0m\u001b[0mpid\u001b[0m\u001b[0;34m,\u001b[0m \u001b[0mwait_flags\u001b[0m\u001b[0;34m)\u001b[0m\u001b[0;34m\u001b[0m\u001b[0;34m\u001b[0m\u001b[0m\n\u001b[0m\u001b[1;32m   1876\u001b[0m             \u001b[0;32mexcept\u001b[0m \u001b[0mChildProcessError\u001b[0m\u001b[0;34m:\u001b[0m\u001b[0;34m\u001b[0m\u001b[0;34m\u001b[0m\u001b[0m\n\u001b[1;32m   1877\u001b[0m                 \u001b[0;31m# This happens if SIGCLD is set to be ignored or waiting\u001b[0m\u001b[0;34m\u001b[0m\u001b[0;34m\u001b[0m\u001b[0m\n",
      "\u001b[0;31mKeyboardInterrupt\u001b[0m: "
     ]
    }
   ],
   "source": [
    "import time\n",
    "\n",
    "current_running = []\n",
    "max_run = 2\n",
    "while(len(keys) > 0):\n",
    "    to_remove = []\n",
    "    for p in current_running:\n",
    "        if p.poll() is not None:\n",
    "            to_remove.append(p)\n",
    "    print(len(to_remove))\n",
    "    if len(to_remove):\n",
    "        for p in to_remove:\n",
    "            current_running.remove(p)\n",
    "    else:\n",
    "        time.sleep(5)\n",
    "    while(len(current_running) < max_run and len(keys) > 0):\n",
    "        k = keys.pop()\n",
    "        p = Popen(cmd_d[k])\n",
    "        current_running.append(p)\n",
    "for p in current_running:\n",
    "    p.wait()"
   ]
  },
  {
   "cell_type": "code",
   "execution_count": null,
   "metadata": {},
   "outputs": [],
   "source": []
  },
  {
   "cell_type": "code",
   "execution_count": 80,
   "metadata": {},
   "outputs": [],
   "source": [
    "for p in current_running:\n",
    "    p.kill()"
   ]
  },
  {
   "cell_type": "code",
   "execution_count": 135,
   "metadata": {},
   "outputs": [
    {
     "name": "stdout",
     "output_type": "stream",
     "text": [
      "[>>>>>>>>>>>>>>>>>>>>>>>>>>>] 1176/1176, 5.4 task/s, elapsed: 217s, ETA:     0s\n",
      "Stage 2: 2D-to-3D pose lifting.\n",
      "Initializing model...\n",
      "load checkpoint from http path: https://download.openmmlab.com/mmpose/body3d/videopose/videopose_h36m_243frames_fullconv_supervised_cpn_ft-88f5abbb_20210527.pth\n",
      "Running 2D-to-3D pose lifting inference...\n",
      "[>>>>>>>>>>>>>>>>>>>>>>>>>>>] 1176/1176, 12.2 task/s, elapsed: 96s, ETA:     0s\n"
     ]
    }
   ],
   "source": [
    "for p in current_running:\n",
    "    p.wait()"
   ]
  },
  {
   "cell_type": "code",
   "execution_count": null,
   "metadata": {},
   "outputs": [],
   "source": []
  },
  {
   "cell_type": "code",
   "execution_count": null,
   "metadata": {},
   "outputs": [],
   "source": []
  }
 ],
 "metadata": {
  "kernelspec": {
   "display_name": "Python 3.9.13 ('base')",
   "language": "python",
   "name": "python3"
  },
  "language_info": {
   "codemirror_mode": {
    "name": "ipython",
    "version": 3
   },
   "file_extension": ".py",
   "mimetype": "text/x-python",
   "name": "python",
   "nbconvert_exporter": "python",
   "pygments_lexer": "ipython3",
   "version": "3.9.13"
  },
  "orig_nbformat": 4,
  "vscode": {
   "interpreter": {
    "hash": "5195f66947864451bbbcec45beb6e8902ca3efa239ef397c21cbd92707b6ad36"
   }
  }
 },
 "nbformat": 4,
 "nbformat_minor": 2
}
